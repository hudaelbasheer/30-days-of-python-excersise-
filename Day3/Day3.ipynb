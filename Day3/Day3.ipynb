{
 "cells": [
  {
   "cell_type": "code",
   "execution_count": null,
   "metadata": {},
   "outputs": [],
   "source": [
    "age = 25  \n",
    "height = 5.7  \n",
    "complex_number = 2 + 3j\n",
    "print('Age:', age)\n",
    "print('Height:', height)\n",
    "print('Complex number:', complex_number)\n"
   ]
  },
  {
   "cell_type": "code",
   "execution_count": null,
   "metadata": {},
   "outputs": [],
   "source": [
    "base = float(input('Enter base: '))\n",
    "height = float(input('Enter height: '))\n",
    "area = 0.5 * base * height\n",
    "print(f'The area of the triangle is {area}')\n"
   ]
  },
  {
   "cell_type": "code",
   "execution_count": null,
   "metadata": {},
   "outputs": [],
   "source": [
    "side_a = float(input('Enter side a: '))\n",
    "side_b = float(input('Enter side b: '))\n",
    "side_c = float(input('Enter side c: '))\n",
    "perimeter = side_a + side_b + side_c\n",
    "print(f'The perimeter of the triangle is {perimeter}')\n"
   ]
  },
  {
   "cell_type": "code",
   "execution_count": null,
   "metadata": {},
   "outputs": [],
   "source": [
    "length = float(input('Enter length: '))\n",
    "width = float(input('Enter width: '))\n",
    "area = length * width\n",
    "perimeter = 2 * (length + width)\n",
    "print(f'The area of the rectangle is {area}')\n",
    "print(f'The perimeter of the rectangle is {perimeter}')\n"
   ]
  },
  {
   "cell_type": "code",
   "execution_count": null,
   "metadata": {},
   "outputs": [],
   "source": [
    "radius = float(input('Enter radius: '))\n",
    "pi = 3.14\n",
    "area = pi * radius ** 2\n",
    "circumference = 2 * pi * radius\n",
    "print(f'The area of the circle is {area}')\n",
    "print(f'The circumference of the circle is {circumference}')\n"
   ]
  },
  {
   "cell_type": "code",
   "execution_count": null,
   "metadata": {},
   "outputs": [],
   "source": [
    "slope = 2\n",
    "x_intercept = 1  # Solving y = 0 gives x = 1\n",
    "y_intercept = -2  # When x = 0, y = -2\n",
    "print(f'Slope: {slope}, x-intercept: {x_intercept}, y-intercept: {y_intercept}')\n"
   ]
  },
  {
   "cell_type": "code",
   "execution_count": null,
   "metadata": {},
   "outputs": [],
   "source": [
    "x1, y1 = 2, 2\n",
    "x2, y2 = 6, 10\n",
    "slope = (y2 - y1) / (x2 - x1)\n",
    "distance = ((x2 - x1) ** 2 + (y2 - y1) ** 2) ** 0.5\n",
    "print(f'Slope: {slope}, Euclidean distance: {distance}')\n"
   ]
  },
  {
   "cell_type": "code",
   "execution_count": null,
   "metadata": {},
   "outputs": [],
   "source": [
    "print('The slopes are equal:', slope == 2)\n"
   ]
  },
  {
   "cell_type": "code",
   "execution_count": null,
   "metadata": {},
   "outputs": [],
   "source": [
    "for x in range(-10, 10):\n",
    "    y = x**2 + 6*x + 9\n",
    "    if y == 0:\n",
    "        print(f'The value of x that makes y zero is {x}')\n"
   ]
  },
  {
   "cell_type": "code",
   "execution_count": null,
   "metadata": {},
   "outputs": [],
   "source": [
    "print(len('python') != len('dragon'))\n"
   ]
  },
  {
   "cell_type": "code",
   "execution_count": null,
   "metadata": {},
   "outputs": [],
   "source": [
    "print('on' in 'python' and 'on' in 'dragon')\n"
   ]
  },
  {
   "cell_type": "code",
   "execution_count": null,
   "metadata": {},
   "outputs": [],
   "source": [
    "sentence = 'I hope this course is not full of jargon.'\n",
    "print('jargon' in sentence)\n"
   ]
  },
  {
   "cell_type": "code",
   "execution_count": null,
   "metadata": {},
   "outputs": [],
   "source": [
    "print('on' not in 'dragon' and 'python')\n"
   ]
  },
  {
   "cell_type": "code",
   "execution_count": null,
   "metadata": {},
   "outputs": [],
   "source": [
    "length = str(float(len('python')))\n",
    "print('Converted length:', length)\n"
   ]
  },
  {
   "cell_type": "code",
   "execution_count": null,
   "metadata": {},
   "outputs": [],
   "source": [
    "number = int(input('Enter a number: '))\n",
    "print(f'{number} is even:', number % 2 == 0)\n"
   ]
  },
  {
   "cell_type": "code",
   "execution_count": null,
   "metadata": {},
   "outputs": [],
   "source": [
    "print(7 // 3 == int(2.7))\n"
   ]
  },
  {
   "cell_type": "code",
   "execution_count": null,
   "metadata": {},
   "outputs": [],
   "source": [
    "print(type('10') == type(10))\n"
   ]
  },
  {
   "cell_type": "code",
   "execution_count": null,
   "metadata": {},
   "outputs": [],
   "source": [
    "try:\n",
    "    print(int('9.8') == 10)\n",
    "except ValueError:\n",
    "    print('Cannot convert \"9.8\" to an integer')\n"
   ]
  },
  {
   "cell_type": "code",
   "execution_count": null,
   "metadata": {},
   "outputs": [],
   "source": [
    "years = float(input('Enter number of years you have lived: '))\n",
    "seconds = years * 365 * 24 * 60 * 60\n",
    "print(f'You have lived for {seconds} seconds.')\n"
   ]
  },
  {
   "cell_type": "code",
   "execution_count": null,
   "metadata": {},
   "outputs": [],
   "source": [
    "print('1 1 1 1 1')\n",
    "print('2 1 2 4 8')\n",
    "print('3 1 3 9 27')\n",
    "print('4 1 4 16 64')\n",
    "print('5 1 5 25 125')\n"
   ]
  }
 ],
 "metadata": {
  "kernelspec": {
   "display_name": "Python 3",
   "language": "python",
   "name": "python3"
  },
  "language_info": {
   "codemirror_mode": {
    "name": "ipython",
    "version": 3
   },
   "file_extension": ".py",
   "mimetype": "text/x-python",
   "name": "python",
   "nbconvert_exporter": "python",
   "pygments_lexer": "ipython3",
   "version": "3.11.9"
  }
 },
 "nbformat": 4,
 "nbformat_minor": 2
}
