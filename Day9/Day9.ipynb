{
 "cells": [
  {
   "cell_type": "code",
   "execution_count": 1,
   "metadata": {},
   "outputs": [],
   "source": [
    "def add_two_numbers(a, b):\n",
    "    return a + b\n"
   ]
  },
  {
   "cell_type": "code",
   "execution_count": 2,
   "metadata": {},
   "outputs": [],
   "source": [
    "import math\n",
    "\n",
    "def area_of_circle(r):\n",
    "    return math.pi * r * r\n"
   ]
  },
  {
   "cell_type": "code",
   "execution_count": 3,
   "metadata": {},
   "outputs": [],
   "source": [
    "def add_all_nums(*args):\n",
    "    if all(isinstance(i, (int, float)) for i in args):\n",
    "        return sum(args)\n",
    "    else:\n",
    "        return \"All arguments must be numbers\"\n"
   ]
  },
  {
   "cell_type": "code",
   "execution_count": 4,
   "metadata": {},
   "outputs": [],
   "source": [
    "def convert_celsius_to_fahrenheit(celsius):\n",
    "    return (celsius * 9/5) + 32\n"
   ]
  },
  {
   "cell_type": "code",
   "execution_count": 5,
   "metadata": {},
   "outputs": [],
   "source": [
    "def check_season(month):\n",
    "    if month in [\"December\", \"January\", \"February\"]:\n",
    "        return \"Winter\"\n",
    "    elif month in [\"March\", \"April\", \"May\"]:\n",
    "        return \"Spring\"\n",
    "    elif month in [\"June\", \"July\", \"August\"]:\n",
    "        return \"Summer\"\n",
    "    elif month in [\"September\", \"October\", \"November\"]:\n",
    "        return \"Autumn\"\n",
    "    else:\n",
    "        return \"Invalid month\"\n"
   ]
  },
  {
   "cell_type": "code",
   "execution_count": 6,
   "metadata": {},
   "outputs": [
    {
     "name": "stdout",
     "output_type": "stream",
     "text": [
      "2.0\n"
     ]
    }
   ],
   "source": [
    "def calculate_slope(x1, y1, x2, y2):\n",
    "    return (y2 - y1) / (x2 - x1)\n",
    "\n",
    "print(calculate_slope(1, 2, 3, 6))  # Output: 2.0\n"
   ]
  },
  {
   "cell_type": "code",
   "execution_count": 7,
   "metadata": {},
   "outputs": [
    {
     "name": "stdout",
     "output_type": "stream",
     "text": [
      "((2+0j), (1+0j))\n"
     ]
    }
   ],
   "source": [
    "import cmath\n",
    "\n",
    "def solve_quadratic_eqn(a, b, c):\n",
    "    discriminant = cmath.sqrt(b**2 - 4*a*c)\n",
    "    root1 = (-b + discriminant) / (2 * a)\n",
    "    root2 = (-b - discriminant) / (2 * a)\n",
    "    return (root1, root2)\n",
    "\n",
    "print(solve_quadratic_eqn(1, -3, 2))  # Output: ((2+0j), (1+0j))\n"
   ]
  },
  {
   "cell_type": "code",
   "execution_count": 8,
   "metadata": {},
   "outputs": [
    {
     "name": "stdout",
     "output_type": "stream",
     "text": [
      "1\n",
      "2\n",
      "3\n",
      "4\n"
     ]
    }
   ],
   "source": [
    "def print_list(lst):\n",
    "    for item in lst:\n",
    "        print(item)\n",
    "\n",
    "print_list([1, 2, 3, 4])  # Output: 1, 2, 3, 4 (each on a new line)\n"
   ]
  },
  {
   "cell_type": "code",
   "execution_count": 9,
   "metadata": {},
   "outputs": [
    {
     "name": "stdout",
     "output_type": "stream",
     "text": [
      "[5, 4, 3, 2, 1]\n"
     ]
    }
   ],
   "source": [
    "def reverse_list(lst):\n",
    "    reversed_lst = []\n",
    "    for item in lst:\n",
    "        reversed_lst.insert(0, item)\n",
    "    return reversed_lst\n",
    "\n",
    "print(reverse_list([1, 2, 3, 4, 5]))  # Output: [5, 4, 3, 2, 1]\n"
   ]
  },
  {
   "cell_type": "code",
   "execution_count": 10,
   "metadata": {},
   "outputs": [
    {
     "name": "stdout",
     "output_type": "stream",
     "text": [
      "['Apple', 'Banana', 'Cherry']\n"
     ]
    }
   ],
   "source": [
    "def capitalize_list_items(lst):\n",
    "    return [item.capitalize() for item in lst]\n",
    "\n",
    "print(capitalize_list_items([\"apple\", \"banana\", \"cherry\"]))  # Output: ['Apple', 'Banana', 'Cherry']\n"
   ]
  },
  {
   "cell_type": "code",
   "execution_count": 11,
   "metadata": {},
   "outputs": [
    {
     "name": "stdout",
     "output_type": "stream",
     "text": [
      "['Potato', 'Tomato', 'Mango', 'Milk']\n"
     ]
    }
   ],
   "source": [
    "def add_item(lst, item):\n",
    "    lst.append(item)\n",
    "    return lst\n",
    "\n",
    "print(add_item(['Potato', 'Tomato', 'Mango'], 'Milk'))  # Output: ['Potato', 'Tomato', 'Mango', 'Milk']\n"
   ]
  },
  {
   "cell_type": "code",
   "execution_count": 12,
   "metadata": {},
   "outputs": [
    {
     "name": "stdout",
     "output_type": "stream",
     "text": [
      "['Potato', 'Tomato']\n"
     ]
    }
   ],
   "source": [
    "def remove_item(lst, item):\n",
    "    if item in lst:\n",
    "        lst.remove(item)\n",
    "    return lst\n",
    "\n",
    "print(remove_item(['Potato', 'Tomato', 'Mango'], 'Mango'))  # Output: ['Potato', 'Tomato']\n"
   ]
  },
  {
   "cell_type": "code",
   "execution_count": 13,
   "metadata": {},
   "outputs": [
    {
     "name": "stdout",
     "output_type": "stream",
     "text": [
      "15\n"
     ]
    }
   ],
   "source": [
    "def sum_of_numbers(n):\n",
    "    return sum(range(1, n+1))\n",
    "\n",
    "print(sum_of_numbers(5))  # Output: 15\n"
   ]
  },
  {
   "cell_type": "code",
   "execution_count": 14,
   "metadata": {},
   "outputs": [
    {
     "name": "stdout",
     "output_type": "stream",
     "text": [
      "6\n"
     ]
    }
   ],
   "source": [
    "def sum_of_even(n):\n",
    "    return sum(i for i in range(1, n+1) if i % 2 == 0)\n",
    "\n",
    "print(sum_of_even(5))  # Output: 6\n"
   ]
  },
  {
   "cell_type": "code",
   "execution_count": 15,
   "metadata": {},
   "outputs": [
    {
     "name": "stdout",
     "output_type": "stream",
     "text": [
      "The number of evens are 2. The number of odds are 1.\n"
     ]
    }
   ],
   "source": [
    "def evens_and_odds(num):\n",
    "    evens = sum(1 for i in str(num) if int(i) % 2 == 0)\n",
    "    odds = sum(1 for i in str(num) if int(i) % 2 != 0)\n",
    "    return f\"The number of evens are {evens}. The number of odds are {odds}.\"\n",
    "\n",
    "print(evens_and_odds(100))  # Output: The number of evens are 2. The number of odds are 1.\n"
   ]
  },
  {
   "cell_type": "code",
   "execution_count": 16,
   "metadata": {},
   "outputs": [
    {
     "name": "stdout",
     "output_type": "stream",
     "text": [
      "120\n"
     ]
    }
   ],
   "source": [
    "def factorial(n):\n",
    "    if n == 0:\n",
    "        return 1\n",
    "    return n * factorial(n-1)\n",
    "\n",
    "print(factorial(5))  # Output: 120\n"
   ]
  },
  {
   "cell_type": "code",
   "execution_count": 17,
   "metadata": {},
   "outputs": [
    {
     "name": "stdout",
     "output_type": "stream",
     "text": [
      "True\n",
      "False\n"
     ]
    }
   ],
   "source": [
    "def is_empty(param):\n",
    "    return not bool(param)\n",
    "\n",
    "print(is_empty([]))  # Output: True\n",
    "print(is_empty([1, 2, 3]))  # Output: False\n"
   ]
  },
  {
   "cell_type": "code",
   "execution_count": 18,
   "metadata": {},
   "outputs": [
    {
     "name": "stdout",
     "output_type": "stream",
     "text": [
      "3\n",
      "3\n"
     ]
    }
   ],
   "source": [
    "import statistics\n",
    "\n",
    "def calculate_mean(lst):\n",
    "    return statistics.mean(lst)\n",
    "\n",
    "def calculate_median(lst):\n",
    "    return statistics.median(lst)\n",
    "\n",
    "def calculate_mode(lst):\n",
    "    return statistics.mode(lst)\n",
    "\n",
    "def calculate_range(lst):\n",
    "    return max(lst) - min(lst)\n",
    "\n",
    "def calculate_variance(lst):\n",
    "    return statistics.variance(lst)\n",
    "\n",
    "def calculate_std(lst):\n",
    "    return statistics.stdev(lst)\n",
    "\n",
    "print(calculate_mean([1, 2, 3, 4, 5]))  # Output: 3\n",
    "print(calculate_median([1, 2, 3, 4, 5]))  # Output: 3\n"
   ]
  },
  {
   "cell_type": "code",
   "execution_count": 19,
   "metadata": {},
   "outputs": [
    {
     "name": "stdout",
     "output_type": "stream",
     "text": [
      "True\n",
      "False\n"
     ]
    }
   ],
   "source": [
    "def is_prime(num):\n",
    "    if num < 2:\n",
    "        return False\n",
    "    for i in range(2, int(num**0.5) + 1):\n",
    "        if num % i == 0:\n",
    "            return False\n",
    "    return True\n",
    "\n",
    "print(is_prime(7))  # Output: True\n",
    "print(is_prime(4))  # Output: False\n"
   ]
  },
  {
   "cell_type": "code",
   "execution_count": 20,
   "metadata": {},
   "outputs": [
    {
     "name": "stdout",
     "output_type": "stream",
     "text": [
      "True\n",
      "False\n"
     ]
    }
   ],
   "source": [
    "def are_all_items_unique(lst):\n",
    "    return len(lst) == len(set(lst))\n",
    "\n",
    "print(are_all_items_unique([1, 2, 3, 4]))  # Output: True\n",
    "print(are_all_items_unique([1, 2, 2, 3]))  # Output: False\n"
   ]
  },
  {
   "cell_type": "code",
   "execution_count": 21,
   "metadata": {},
   "outputs": [
    {
     "name": "stdout",
     "output_type": "stream",
     "text": [
      "True\n",
      "False\n"
     ]
    }
   ],
   "source": [
    "def all_items_same_type(lst):\n",
    "    return len(set(type(item) for item in lst)) == 1\n",
    "\n",
    "print(all_items_same_type([1, 2, 3]))  # Output: True\n",
    "print(all_items_same_type([1, 2, \"3\"]))  # Output: False\n"
   ]
  },
  {
   "cell_type": "code",
   "execution_count": 22,
   "metadata": {},
   "outputs": [
    {
     "name": "stdout",
     "output_type": "stream",
     "text": [
      "['Mandarin', 'Spanish', 'English', 'Hindi', 'Arabic']\n"
     ]
    }
   ],
   "source": [
    "def most_spoken_languages():\n",
    "    return ['Mandarin', 'Spanish', 'English', 'Hindi', 'Arabic']\n",
    "\n",
    "print(most_spoken_languages())  # Output: ['Mandarin', 'Spanish', 'English', 'Hindi', 'Arabic']\n"
   ]
  },
  {
   "cell_type": "code",
   "execution_count": 23,
   "metadata": {},
   "outputs": [
    {
     "name": "stdout",
     "output_type": "stream",
     "text": [
      "['China', 'India', 'USA', 'Indonesia', 'Pakistan']\n"
     ]
    }
   ],
   "source": [
    "def most_populated_countries():\n",
    "    return ['China', 'India', 'USA', 'Indonesia', 'Pakistan']\n",
    "\n",
    "print(most_populated_countries())  # Output: ['China', 'India', 'USA', 'Indonesia', 'Pakistan']\n"
   ]
  }
 ],
 "metadata": {
  "kernelspec": {
   "display_name": "Python 3",
   "language": "python",
   "name": "python3"
  },
  "language_info": {
   "codemirror_mode": {
    "name": "ipython",
    "version": 3
   },
   "file_extension": ".py",
   "mimetype": "text/x-python",
   "name": "python",
   "nbconvert_exporter": "python",
   "pygments_lexer": "ipython3",
   "version": "3.11.9"
  }
 },
 "nbformat": 4,
 "nbformat_minor": 2
}
