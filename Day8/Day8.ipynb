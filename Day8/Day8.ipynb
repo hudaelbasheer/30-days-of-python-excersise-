{
 "cells": [
  {
   "cell_type": "code",
   "execution_count": null,
   "metadata": {},
   "outputs": [],
   "source": [
    "# Using for loop\n",
    "for i in range(11):\n",
    "    print(i)\n"
   ]
  },
  {
   "cell_type": "code",
   "execution_count": null,
   "metadata": {},
   "outputs": [],
   "source": [
    "# Using while loop\n",
    "i = 0\n",
    "while i <= 10:\n",
    "    print(i)\n",
    "    i += 1\n"
   ]
  },
  {
   "cell_type": "code",
   "execution_count": null,
   "metadata": {},
   "outputs": [],
   "source": [
    "# Using for loop\n",
    "for i in range(10, -1, -1):\n",
    "    print(i)\n"
   ]
  },
  {
   "cell_type": "code",
   "execution_count": null,
   "metadata": {},
   "outputs": [],
   "source": [
    "# Using while loop\n",
    "i = 10\n",
    "while i >= 0:\n",
    "    print(i)\n",
    "    i -= 1\n"
   ]
  },
  {
   "cell_type": "code",
   "execution_count": 5,
   "metadata": {},
   "outputs": [],
   "source": [
    "# # # # # # # #\n",
    "# # # # # # # #\n",
    "# # # # # # # #\n",
    "# # # # # # # #\n",
    "# # # # # # # #\n",
    "# # # # # # # #\n",
    "# # # # # # # #\n",
    "# # # # # # # #\n"
   ]
  },
  {
   "cell_type": "code",
   "execution_count": null,
   "metadata": {},
   "outputs": [],
   "source": [
    "# Nested loop pattern\n",
    "for i in range(8):\n",
    "    for j in range(8):\n",
    "        print(\"#\", end=\" \")\n",
    "    print()\n"
   ]
  },
  {
   "cell_type": "code",
   "execution_count": null,
   "metadata": {},
   "outputs": [],
   "source": [
    "0 x 0 = 0\n",
    "1 x 1 = 1\n",
    "2 x 2 = 4\n",
    "3 x 3 = 9\n",
    "4 x 4 = 16\n",
    "5 x 5 = 25\n",
    "6 x 6 = 36\n",
    "7 x 7 = 49\n",
    "8 x 8 = 64\n",
    "9 x 9 = 81\n",
    "10 x 10 = 100\n"
   ]
  },
  {
   "cell_type": "code",
   "execution_count": null,
   "metadata": {},
   "outputs": [],
   "source": [
    "# Multiplication pattern\n",
    "for i in range(11):\n",
    "    print(f\"{i} x {i} = {i * i}\")\n"
   ]
  },
  {
   "cell_type": "code",
   "execution_count": null,
   "metadata": {},
   "outputs": [],
   "source": [
    "# Iterate through list\n",
    "tech_list = ['Python', 'Numpy', 'Pandas', 'Django', 'Flask']\n",
    "for item in tech_list:\n",
    "    print(item)\n"
   ]
  },
  {
   "cell_type": "code",
   "execution_count": null,
   "metadata": {},
   "outputs": [],
   "source": [
    "# Print even numbers\n",
    "for i in range(0, 101, 2):\n",
    "    print(i)\n"
   ]
  },
  {
   "cell_type": "code",
   "execution_count": null,
   "metadata": {},
   "outputs": [],
   "source": [
    "# Sum of all numbers\n",
    "total_sum = 0\n",
    "for i in range(101):\n",
    "    total_sum += i\n",
    "print(\"The sum of all numbers is\", total_sum)\n"
   ]
  },
  {
   "cell_type": "code",
   "execution_count": null,
   "metadata": {},
   "outputs": [],
   "source": [
    "# Sum of evens and odds\n",
    "sum_evens = 0\n",
    "sum_odds = 0\n",
    "\n",
    "for i in range(101):\n",
    "    if i % 2 == 0:\n",
    "        sum_evens += i\n",
    "    else:\n",
    "        sum_odds += i\n",
    "\n",
    "print(\"The sum of all evens is\", sum_evens)\n",
    "print(\"The sum of all odds is\", sum_odds)\n"
   ]
  },
  {
   "cell_type": "code",
   "execution_count": null,
   "metadata": {},
   "outputs": [],
   "source": [
    "# Countries containing 'land'\n",
    "countries = [\n",
    "    'Afghanistan', 'Finland', 'Iceland', 'Ireland', 'Netherlands',\n",
    "    'New Zealand', 'Poland', 'Switzerland', 'Thailand', 'Zelandia'\n",
    "]\n",
    "\n",
    "land_countries = [country for country in countries if 'land' in country]\n",
    "print(\"Countries containing 'land':\", land_countries)\n"
   ]
  },
  {
   "cell_type": "code",
   "execution_count": null,
   "metadata": {},
   "outputs": [],
   "source": [
    "# Reverse fruit list\n",
    "fruits = ['banana', 'orange', 'mango', 'lemon']\n",
    "reversed_fruits = []\n",
    "\n",
    "for fruit in reversed(fruits):\n",
    "    reversed_fruits.append(fruit)\n",
    "\n",
    "print(\"Reversed fruits:\", reversed_fruits)\n"
   ]
  },
  {
   "cell_type": "code",
   "execution_count": 31,
   "metadata": {},
   "outputs": [
    {
     "name": "stdout",
     "output_type": "stream",
     "text": [
      "Total number of languages: 6\n"
     ]
    }
   ],
   "source": [
    "# Data analysis on countries_data.py\n",
    "countries_data = [\n",
    "    {\n",
    "        \"name\": \"Afghanistan\",\n",
    "        \"capital\": \"Kabul\",\n",
    "        \"languages\": [\"Pashto\", \"Uzbek\", \"Turkmen\"],\n",
    "        \"population\": 27657145,\n",
    "    },\n",
    "    {\n",
    "        \"name\": \"Albania\",\n",
    "        \"capital\": \"Tirana\",\n",
    "        \"languages\": [\"Albanian\"],\n",
    "        \"population\": 2886026,\n",
    "    },\n",
    "    {\n",
    "        \"name\": \"Algeria\",\n",
    "        \"capital\": \"Algiers\",\n",
    "        \"languages\": [\"Arabic\"],\n",
    "        \"population\": 40400000,\n",
    "    },\n",
    "    {\n",
    "        \"name\": \"Andorra\",\n",
    "        \"capital\": \"Andorra la Vella\",\n",
    "        \"languages\": [\"Catalan\"],\n",
    "        \"population\": 78014,\n",
    "    },\n",
    "    # Add more countries as needed...\n",
    "]\n",
    "\n",
    "# Total number of languages\n",
    "all_languages = set()\n",
    "for country in countries_data:\n",
    "    all_languages.update(country[\"languages\"])\n",
    "\n",
    "print(\"Total number of languages:\", len(all_languages))\n"
   ]
  },
  {
   "cell_type": "code",
   "execution_count": null,
   "metadata": {},
   "outputs": [],
   "source": [
    "# Data analysis on countries_data.py\n",
    "from data.countries_data import countries_data\n",
    "\n",
    "# Total number of languages\n",
    "all_languages = set()\n",
    "for country in countries_data:\n",
    "    all_languages.update(country['languages'])\n",
    "\n",
    "print(\"Total number of languages:\", len(all_languages))\n",
    "\n",
    "# 10 most spoken languages\n",
    "language_count = {}\n",
    "for country in countries_data:\n",
    "    for language in country['languages']:\n",
    "        language_count[language] = language_count.get(language, 0) + 1\n",
    "\n",
    "most_spoken_languages = sorted(language_count.items(), key=lambda x: x[1], reverse=True)[:10]\n",
    "print(\"10 most spoken languages:\", most_spoken_languages)\n",
    "\n",
    "# 10 most populated countries\n",
    "most_populated_countries = sorted(countries_data, key=lambda x: x['population'], reverse=True)[:10]\n",
    "print(\"10 most populated countries:\", [country['name'] for country in most_populated_countries])\n"
   ]
  },
  {
   "cell_type": "code",
   "execution_count": 32,
   "metadata": {},
   "outputs": [
    {
     "name": "stdout",
     "output_type": "stream",
     "text": [
      "Total number of languages: 12\n",
      "10 Most Spoken Languages:\n",
      "English: 2\n",
      "Pashto: 1\n",
      "Uzbek: 1\n",
      "Turkmen: 1\n",
      "Albanian: 1\n",
      "Arabic: 1\n",
      "Catalan: 1\n",
      "Portuguese: 1\n",
      "Spanish: 1\n",
      "Guarani: 1\n",
      "\n",
      "10 Most Populated Countries:\n",
      "Argentina: 43590400\n",
      "Algeria: 40400000\n",
      "Afghanistan: 27657145\n",
      "Angola: 25868000\n",
      "Australia: 24117360\n",
      "Austria: 8725931\n",
      "Armenia: 3000000\n",
      "Albania: 2886026\n",
      "Antigua and Barbuda: 86295\n",
      "Andorra: 78014\n"
     ]
    }
   ],
   "source": [
    "# Data embedded directly\n",
    "countries_data = [\n",
    "    {\"name\": \"Afghanistan\", \"capital\": \"Kabul\", \"languages\": [\"Pashto\", \"Uzbek\", \"Turkmen\"], \"population\": 27657145},\n",
    "    {\"name\": \"Albania\", \"capital\": \"Tirana\", \"languages\": [\"Albanian\"], \"population\": 2886026},\n",
    "    {\"name\": \"Algeria\", \"capital\": \"Algiers\", \"languages\": [\"Arabic\"], \"population\": 40400000},\n",
    "    {\"name\": \"Andorra\", \"capital\": \"Andorra la Vella\", \"languages\": [\"Catalan\"], \"population\": 78014},\n",
    "    {\"name\": \"Angola\", \"capital\": \"Luanda\", \"languages\": [\"Portuguese\"], \"population\": 25868000},\n",
    "    {\"name\": \"Antigua and Barbuda\", \"capital\": \"Saint John's\", \"languages\": [\"English\"], \"population\": 86295},\n",
    "    {\"name\": \"Argentina\", \"capital\": \"Buenos Aires\", \"languages\": [\"Spanish\", \"Guarani\"], \"population\": 43590400},\n",
    "    {\"name\": \"Armenia\", \"capital\": \"Yerevan\", \"languages\": [\"Armenian\"], \"population\": 3000000},\n",
    "    {\"name\": \"Australia\", \"capital\": \"Canberra\", \"languages\": [\"English\"], \"population\": 24117360},\n",
    "    {\"name\": \"Austria\", \"capital\": \"Vienna\", \"languages\": [\"German\"], \"population\": 8725931},\n",
    "    # Add more countries if needed\n",
    "]\n",
    "\n",
    "# Task 1: Total number of languages\n",
    "all_languages = set()  # Use a set to avoid duplicates\n",
    "for country in countries_data:\n",
    "    all_languages.update(country[\"languages\"])\n",
    "\n",
    "print(\"Total number of languages:\", len(all_languages))\n",
    "\n",
    "# Task 2: 10 most spoken languages\n",
    "language_counts = {}\n",
    "for country in countries_data:\n",
    "    for language in country[\"languages\"]:\n",
    "        language_counts[language] = language_counts.get(language, 0) + 1\n",
    "\n",
    "# Sort by frequency (descending) and take the top 10\n",
    "most_spoken_languages = sorted(language_counts.items(), key=lambda x: x[1], reverse=True)[:10]\n",
    "print(\"10 Most Spoken Languages:\")\n",
    "for lang, count in most_spoken_languages:\n",
    "    print(f\"{lang}: {count}\")\n",
    "\n",
    "# Task 3: 10 most populated countries\n",
    "most_populated_countries = sorted(countries_data, key=lambda x: x[\"population\"], reverse=True)[:10]\n",
    "print(\"\\n10 Most Populated Countries:\")\n",
    "for country in most_populated_countries:\n",
    "    print(f\"{country['name']}: {country['population']}\")\n",
    "\n",
    "\n"
   ]
  },
  {
   "cell_type": "code",
   "execution_count": null,
   "metadata": {},
   "outputs": [],
   "source": []
  },
  {
   "cell_type": "code",
   "execution_count": null,
   "metadata": {},
   "outputs": [],
   "source": []
  },
  {
   "cell_type": "code",
   "execution_count": null,
   "metadata": {},
   "outputs": [],
   "source": []
  },
  {
   "cell_type": "code",
   "execution_count": null,
   "metadata": {},
   "outputs": [],
   "source": []
  },
  {
   "cell_type": "code",
   "execution_count": null,
   "metadata": {},
   "outputs": [],
   "source": []
  },
  {
   "cell_type": "code",
   "execution_count": null,
   "metadata": {},
   "outputs": [],
   "source": []
  },
  {
   "cell_type": "code",
   "execution_count": null,
   "metadata": {},
   "outputs": [],
   "source": []
  },
  {
   "cell_type": "code",
   "execution_count": null,
   "metadata": {},
   "outputs": [],
   "source": []
  },
  {
   "cell_type": "code",
   "execution_count": null,
   "metadata": {},
   "outputs": [],
   "source": []
  },
  {
   "cell_type": "code",
   "execution_count": null,
   "metadata": {},
   "outputs": [],
   "source": []
  },
  {
   "cell_type": "code",
   "execution_count": null,
   "metadata": {},
   "outputs": [],
   "source": []
  },
  {
   "cell_type": "code",
   "execution_count": null,
   "metadata": {},
   "outputs": [],
   "source": []
  },
  {
   "cell_type": "code",
   "execution_count": null,
   "metadata": {},
   "outputs": [],
   "source": []
  }
 ],
 "metadata": {
  "kernelspec": {
   "display_name": "Python 3",
   "language": "python",
   "name": "python3"
  },
  "language_info": {
   "codemirror_mode": {
    "name": "ipython",
    "version": 3
   },
   "file_extension": ".py",
   "mimetype": "text/x-python",
   "name": "python",
   "nbconvert_exporter": "python",
   "pygments_lexer": "ipython3",
   "version": "3.11.9"
  }
 },
 "nbformat": 4,
 "nbformat_minor": 2
}
