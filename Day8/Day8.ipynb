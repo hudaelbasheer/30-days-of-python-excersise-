{
 "cells": [
  {
   "cell_type": "code",
   "execution_count": 1,
   "metadata": {},
   "outputs": [
    {
     "name": "stdout",
     "output_type": "stream",
     "text": [
      "0\n",
      "1\n",
      "2\n",
      "3\n",
      "4\n",
      "5\n",
      "6\n",
      "7\n",
      "8\n",
      "9\n",
      "10\n"
     ]
    }
   ],
   "source": [
    "# Using for loop\n",
    "for i in range(11):\n",
    "    print(i)\n"
   ]
  },
  {
   "cell_type": "code",
   "execution_count": 2,
   "metadata": {},
   "outputs": [
    {
     "name": "stdout",
     "output_type": "stream",
     "text": [
      "0\n",
      "1\n",
      "2\n",
      "3\n",
      "4\n",
      "5\n",
      "6\n",
      "7\n",
      "8\n",
      "9\n",
      "10\n"
     ]
    }
   ],
   "source": [
    "# Using while loop\n",
    "i = 0\n",
    "while i <= 10:\n",
    "    print(i)\n",
    "    i += 1\n"
   ]
  },
  {
   "cell_type": "code",
   "execution_count": 3,
   "metadata": {},
   "outputs": [
    {
     "name": "stdout",
     "output_type": "stream",
     "text": [
      "10\n",
      "9\n",
      "8\n",
      "7\n",
      "6\n",
      "5\n",
      "4\n",
      "3\n",
      "2\n",
      "1\n",
      "0\n"
     ]
    }
   ],
   "source": [
    "# Using for loop\n",
    "for i in range(10, -1, -1):\n",
    "    print(i)\n"
   ]
  },
  {
   "cell_type": "code",
   "execution_count": 4,
   "metadata": {},
   "outputs": [
    {
     "name": "stdout",
     "output_type": "stream",
     "text": [
      "10\n",
      "9\n",
      "8\n",
      "7\n",
      "6\n",
      "5\n",
      "4\n",
      "3\n",
      "2\n",
      "1\n",
      "0\n"
     ]
    }
   ],
   "source": [
    "# Using while loop\n",
    "i = 10\n",
    "while i >= 0:\n",
    "    print(i)\n",
    "    i -= 1\n"
   ]
  },
  {
   "cell_type": "code",
   "execution_count": 5,
   "metadata": {},
   "outputs": [],
   "source": [
    "# # # # # # # #\n",
    "# # # # # # # #\n",
    "# # # # # # # #\n",
    "# # # # # # # #\n",
    "# # # # # # # #\n",
    "# # # # # # # #\n",
    "# # # # # # # #\n",
    "# # # # # # # #\n"
   ]
  },
  {
   "cell_type": "code",
   "execution_count": 6,
   "metadata": {},
   "outputs": [
    {
     "name": "stdout",
     "output_type": "stream",
     "text": [
      "# # # # # # # # \n",
      "# # # # # # # # \n",
      "# # # # # # # # \n",
      "# # # # # # # # \n",
      "# # # # # # # # \n",
      "# # # # # # # # \n",
      "# # # # # # # # \n",
      "# # # # # # # # \n"
     ]
    }
   ],
   "source": [
    "# Nested loop pattern\n",
    "for i in range(8):\n",
    "    for j in range(8):\n",
    "        print(\"#\", end=\" \")\n",
    "    print()\n"
   ]
  },
  {
   "cell_type": "code",
   "execution_count": null,
   "metadata": {},
   "outputs": [],
   "source": [
    "0 x 0 = 0\n",
    "1 x 1 = 1\n",
    "2 x 2 = 4\n",
    "3 x 3 = 9\n",
    "4 x 4 = 16\n",
    "5 x 5 = 25\n",
    "6 x 6 = 36\n",
    "7 x 7 = 49\n",
    "8 x 8 = 64\n",
    "9 x 9 = 81\n",
    "10 x 10 = 100\n"
   ]
  },
  {
   "cell_type": "code",
   "execution_count": 8,
   "metadata": {},
   "outputs": [
    {
     "name": "stdout",
     "output_type": "stream",
     "text": [
      "0 x 0 = 0\n",
      "1 x 1 = 1\n",
      "2 x 2 = 4\n",
      "3 x 3 = 9\n",
      "4 x 4 = 16\n",
      "5 x 5 = 25\n",
      "6 x 6 = 36\n",
      "7 x 7 = 49\n",
      "8 x 8 = 64\n",
      "9 x 9 = 81\n",
      "10 x 10 = 100\n"
     ]
    }
   ],
   "source": [
    "# Multiplication pattern\n",
    "for i in range(11):\n",
    "    print(f\"{i} x {i} = {i * i}\")\n"
   ]
  },
  {
   "cell_type": "code",
   "execution_count": 9,
   "metadata": {},
   "outputs": [
    {
     "name": "stdout",
     "output_type": "stream",
     "text": [
      "Python\n",
      "Numpy\n",
      "Pandas\n",
      "Django\n",
      "Flask\n"
     ]
    }
   ],
   "source": [
    "# Iterate through list\n",
    "tech_list = ['Python', 'Numpy', 'Pandas', 'Django', 'Flask']\n",
    "for item in tech_list:\n",
    "    print(item)\n"
   ]
  },
  {
   "cell_type": "code",
   "execution_count": 10,
   "metadata": {},
   "outputs": [
    {
     "name": "stdout",
     "output_type": "stream",
     "text": [
      "0\n",
      "2\n",
      "4\n",
      "6\n",
      "8\n",
      "10\n",
      "12\n",
      "14\n",
      "16\n",
      "18\n",
      "20\n",
      "22\n",
      "24\n",
      "26\n",
      "28\n",
      "30\n",
      "32\n",
      "34\n",
      "36\n",
      "38\n",
      "40\n",
      "42\n",
      "44\n",
      "46\n",
      "48\n",
      "50\n",
      "52\n",
      "54\n",
      "56\n",
      "58\n",
      "60\n",
      "62\n",
      "64\n",
      "66\n",
      "68\n",
      "70\n",
      "72\n",
      "74\n",
      "76\n",
      "78\n",
      "80\n",
      "82\n",
      "84\n",
      "86\n",
      "88\n",
      "90\n",
      "92\n",
      "94\n",
      "96\n",
      "98\n",
      "100\n"
     ]
    }
   ],
   "source": [
    "# Print even numbers\n",
    "for i in range(0, 101, 2):\n",
    "    print(i)\n"
   ]
  },
  {
   "cell_type": "code",
   "execution_count": 11,
   "metadata": {},
   "outputs": [
    {
     "name": "stdout",
     "output_type": "stream",
     "text": [
      "The sum of all numbers is 5050\n"
     ]
    }
   ],
   "source": [
    "# Sum of all numbers\n",
    "total_sum = 0\n",
    "for i in range(101):\n",
    "    total_sum += i\n",
    "print(\"The sum of all numbers is\", total_sum)\n"
   ]
  },
  {
   "cell_type": "code",
   "execution_count": 12,
   "metadata": {},
   "outputs": [
    {
     "name": "stdout",
     "output_type": "stream",
     "text": [
      "The sum of all evens is 2550\n",
      "The sum of all odds is 2500\n"
     ]
    }
   ],
   "source": [
    "# Sum of evens and odds\n",
    "sum_evens = 0\n",
    "sum_odds = 0\n",
    "\n",
    "for i in range(101):\n",
    "    if i % 2 == 0:\n",
    "        sum_evens += i\n",
    "    else:\n",
    "        sum_odds += i\n",
    "\n",
    "print(\"The sum of all evens is\", sum_evens)\n",
    "print(\"The sum of all odds is\", sum_odds)\n"
   ]
  },
  {
   "cell_type": "code",
   "execution_count": 14,
   "metadata": {},
   "outputs": [
    {
     "name": "stdout",
     "output_type": "stream",
     "text": [
      "Countries containing 'land': ['Finland', 'Iceland', 'Ireland', 'Netherlands', 'New Zealand', 'Poland', 'Switzerland', 'Thailand', 'Zelandia']\n"
     ]
    }
   ],
   "source": [
    "# Countries containing 'land'\n",
    "countries = [\n",
    "    'Afghanistan', 'Finland', 'Iceland', 'Ireland', 'Netherlands',\n",
    "    'New Zealand', 'Poland', 'Switzerland', 'Thailand', 'Zelandia'\n",
    "]\n",
    "\n",
    "land_countries = [country for country in countries if 'land' in country]\n",
    "print(\"Countries containing 'land':\", land_countries)\n"
   ]
  },
  {
   "cell_type": "code",
   "execution_count": 15,
   "metadata": {},
   "outputs": [
    {
     "name": "stdout",
     "output_type": "stream",
     "text": [
      "Reversed fruits: ['lemon', 'mango', 'orange', 'banana']\n"
     ]
    }
   ],
   "source": [
    "# Reverse fruit list\n",
    "fruits = ['banana', 'orange', 'mango', 'lemon']\n",
    "reversed_fruits = []\n",
    "\n",
    "for fruit in reversed(fruits):\n",
    "    reversed_fruits.append(fruit)\n",
    "\n",
    "print(\"Reversed fruits:\", reversed_fruits)\n"
   ]
  },
  {
   "cell_type": "code",
   "execution_count": 29,
   "metadata": {},
   "outputs": [
    {
     "name": "stdout",
     "output_type": "stream",
     "text": [
      "Total number of languages: 6\n"
     ]
    }
   ],
   "source": [
    "# Data analysis on countries_data.py\n",
    "countries_data = [\n",
    "    {\n",
    "        \"name\": \"Afghanistan\",\n",
    "        \"capital\": \"Kabul\",\n",
    "        \"languages\": [\"Pashto\", \"Uzbek\", \"Turkmen\"],\n",
    "        \"population\": 27657145,\n",
    "    },\n",
    "    {\n",
    "        \"name\": \"Albania\",\n",
    "        \"capital\": \"Tirana\",\n",
    "        \"languages\": [\"Albanian\"],\n",
    "        \"population\": 2886026,\n",
    "    },\n",
    "    {\n",
    "        \"name\": \"Algeria\",\n",
    "        \"capital\": \"Algiers\",\n",
    "        \"languages\": [\"Arabic\"],\n",
    "        \"population\": 40400000,\n",
    "    },\n",
    "    {\n",
    "        \"name\": \"Andorra\",\n",
    "        \"capital\": \"Andorra la Vella\",\n",
    "        \"languages\": [\"Catalan\"],\n",
    "        \"population\": 78014,\n",
    "    },\n",
    "    # Add more countries as needed...\n",
    "]\n",
    "\n",
    "# Total number of languages\n",
    "all_languages = set()\n",
    "for country in countries_data:\n",
    "    all_languages.update(country[\"languages\"])\n",
    "\n",
    "print(\"Total number of languages:\", len(all_languages))\n"
   ]
  },
  {
   "cell_type": "code",
   "execution_count": null,
   "metadata": {},
   "outputs": [],
   "source": []
  },
  {
   "cell_type": "code",
   "execution_count": null,
   "metadata": {},
   "outputs": [],
   "source": []
  },
  {
   "cell_type": "code",
   "execution_count": null,
   "metadata": {},
   "outputs": [],
   "source": []
  },
  {
   "cell_type": "code",
   "execution_count": null,
   "metadata": {},
   "outputs": [],
   "source": []
  },
  {
   "cell_type": "code",
   "execution_count": null,
   "metadata": {},
   "outputs": [],
   "source": []
  },
  {
   "cell_type": "code",
   "execution_count": null,
   "metadata": {},
   "outputs": [],
   "source": []
  },
  {
   "cell_type": "code",
   "execution_count": null,
   "metadata": {},
   "outputs": [],
   "source": []
  },
  {
   "cell_type": "code",
   "execution_count": null,
   "metadata": {},
   "outputs": [],
   "source": []
  },
  {
   "cell_type": "code",
   "execution_count": null,
   "metadata": {},
   "outputs": [],
   "source": []
  },
  {
   "cell_type": "code",
   "execution_count": null,
   "metadata": {},
   "outputs": [],
   "source": []
  },
  {
   "cell_type": "code",
   "execution_count": null,
   "metadata": {},
   "outputs": [],
   "source": []
  },
  {
   "cell_type": "code",
   "execution_count": null,
   "metadata": {},
   "outputs": [],
   "source": []
  },
  {
   "cell_type": "code",
   "execution_count": null,
   "metadata": {},
   "outputs": [],
   "source": []
  },
  {
   "cell_type": "code",
   "execution_count": null,
   "metadata": {},
   "outputs": [],
   "source": []
  },
  {
   "cell_type": "code",
   "execution_count": null,
   "metadata": {},
   "outputs": [],
   "source": []
  }
 ],
 "metadata": {
  "kernelspec": {
   "display_name": "Python 3",
   "language": "python",
   "name": "python3"
  },
  "language_info": {
   "codemirror_mode": {
    "name": "ipython",
    "version": 3
   },
   "file_extension": ".py",
   "mimetype": "text/x-python",
   "name": "python",
   "nbconvert_exporter": "python",
   "pygments_lexer": "ipython3",
   "version": "3.11.9"
  }
 },
 "nbformat": 4,
 "nbformat_minor": 2
}
