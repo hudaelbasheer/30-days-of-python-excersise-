{
 "cells": [
  {
   "cell_type": "code",
   "execution_count": 1,
   "metadata": {},
   "outputs": [],
   "source": [
    "dog = {}\n"
   ]
  },
  {
   "cell_type": "code",
   "execution_count": 2,
   "metadata": {},
   "outputs": [],
   "source": [
    "dog['name'] = 'Buddy'\n",
    "dog['color'] = 'Brown'\n",
    "dog['breed'] = 'Labrador'\n",
    "dog['legs'] = 4\n",
    "dog['age'] = 3\n"
   ]
  },
  {
   "cell_type": "code",
   "execution_count": 3,
   "metadata": {},
   "outputs": [],
   "source": [
    "student = {\n",
    "    'first_name': 'Hidayah',\n",
    "    'last_name': 'Dayyib',\n",
    "    'gender': 'Female',\n",
    "    'age': 22,\n",
    "    'marital_status': 'Single',\n",
    "    'skills': ['Data Analysis', 'Python', 'Excel'],\n",
    "    'country': 'Nigeria',\n",
    "    'city': 'Kano',\n",
    "    'address': '123 Gwale, Kano'\n",
    "}\n"
   ]
  },
  {
   "cell_type": "code",
   "execution_count": 4,
   "metadata": {},
   "outputs": [
    {
     "data": {
      "text/plain": [
       "9"
      ]
     },
     "execution_count": 4,
     "metadata": {},
     "output_type": "execute_result"
    }
   ],
   "source": [
    "len(student)\n"
   ]
  },
  {
   "cell_type": "code",
   "execution_count": 5,
   "metadata": {},
   "outputs": [
    {
     "name": "stdout",
     "output_type": "stream",
     "text": [
      "<class 'list'>\n"
     ]
    }
   ],
   "source": [
    "skills = student['skills']\n",
    "print(type(skills))  # This should print: <class 'list'>\n"
   ]
  },
  {
   "cell_type": "code",
   "execution_count": 6,
   "metadata": {},
   "outputs": [],
   "source": [
    "student['skills'].append('Power BI')\n",
    "student['skills'].append('SQL')\n"
   ]
  },
  {
   "cell_type": "code",
   "execution_count": 7,
   "metadata": {},
   "outputs": [
    {
     "name": "stdout",
     "output_type": "stream",
     "text": [
      "['first_name', 'last_name', 'gender', 'age', 'marital_status', 'skills', 'country', 'city', 'address']\n"
     ]
    }
   ],
   "source": [
    "keys = list(student.keys())\n",
    "print(keys)\n"
   ]
  },
  {
   "cell_type": "code",
   "execution_count": 8,
   "metadata": {},
   "outputs": [
    {
     "name": "stdout",
     "output_type": "stream",
     "text": [
      "['Hidayah', 'Dayyib', 'Female', 22, 'Single', ['Data Analysis', 'Python', 'Excel', 'Power BI', 'SQL'], 'Nigeria', 'Kano', '123 Street Name, Kano']\n"
     ]
    }
   ],
   "source": [
    "values = list(student.values())\n",
    "print(values)\n"
   ]
  },
  {
   "cell_type": "code",
   "execution_count": 9,
   "metadata": {},
   "outputs": [
    {
     "name": "stdout",
     "output_type": "stream",
     "text": [
      "[('first_name', 'Hidayah'), ('last_name', 'Dayyib'), ('gender', 'Female'), ('age', 22), ('marital_status', 'Single'), ('skills', ['Data Analysis', 'Python', 'Excel', 'Power BI', 'SQL']), ('country', 'Nigeria'), ('city', 'Kano'), ('address', '123 Street Name, Kano')]\n"
     ]
    }
   ],
   "source": [
    "items = list(student.items())\n",
    "print(items)\n"
   ]
  },
  {
   "cell_type": "code",
   "execution_count": 10,
   "metadata": {},
   "outputs": [],
   "source": [
    "del student['address']\n"
   ]
  },
  {
   "cell_type": "code",
   "execution_count": 11,
   "metadata": {},
   "outputs": [],
   "source": [
    "del student\n"
   ]
  }
 ],
 "metadata": {
  "kernelspec": {
   "display_name": "Python 3",
   "language": "python",
   "name": "python3"
  },
  "language_info": {
   "codemirror_mode": {
    "name": "ipython",
    "version": 3
   },
   "file_extension": ".py",
   "mimetype": "text/x-python",
   "name": "python",
   "nbconvert_exporter": "python",
   "pygments_lexer": "ipython3",
   "version": "3.11.9"
  }
 },
 "nbformat": 4,
 "nbformat_minor": 2
}
