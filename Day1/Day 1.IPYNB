{
 "cells": [
  {
   "cell_type": "code",
   "execution_count": 2,
   "metadata": {},
   "outputs": [
    {
     "name": "stdout",
     "output_type": "stream",
     "text": [
      "Python 3.11.9\n"
     ]
    }
   ],
   "source": [
    "!python --version"
   ]
  },
  {
   "cell_type": "code",
   "execution_count": 3,
   "metadata": {},
   "outputs": [
    {
     "data": {
      "text/plain": [
       "7"
      ]
     },
     "execution_count": 3,
     "metadata": {},
     "output_type": "execute_result"
    }
   ],
   "source": [
    "3+4"
   ]
  },
  {
   "cell_type": "code",
   "execution_count": 4,
   "metadata": {},
   "outputs": [
    {
     "data": {
      "text/plain": [
       "-1"
      ]
     },
     "execution_count": 4,
     "metadata": {},
     "output_type": "execute_result"
    }
   ],
   "source": [
    "3-4"
   ]
  },
  {
   "cell_type": "code",
   "execution_count": 5,
   "metadata": {},
   "outputs": [
    {
     "data": {
      "text/plain": [
       "12"
      ]
     },
     "execution_count": 5,
     "metadata": {},
     "output_type": "execute_result"
    }
   ],
   "source": [
    "3*4"
   ]
  },
  {
   "cell_type": "code",
   "execution_count": 6,
   "metadata": {},
   "outputs": [
    {
     "data": {
      "text/plain": [
       "0.75"
      ]
     },
     "execution_count": 6,
     "metadata": {},
     "output_type": "execute_result"
    }
   ],
   "source": [
    "3/4"
   ]
  },
  {
   "cell_type": "code",
   "execution_count": 7,
   "metadata": {},
   "outputs": [
    {
     "data": {
      "text/plain": [
       "3"
      ]
     },
     "execution_count": 7,
     "metadata": {},
     "output_type": "execute_result"
    }
   ],
   "source": [
    "3%4"
   ]
  },
  {
   "cell_type": "code",
   "execution_count": 8,
   "metadata": {},
   "outputs": [
    {
     "data": {
      "text/plain": [
       "81"
      ]
     },
     "execution_count": 8,
     "metadata": {},
     "output_type": "execute_result"
    }
   ],
   "source": [
    "3**4"
   ]
  },
  {
   "cell_type": "code",
   "execution_count": 9,
   "metadata": {},
   "outputs": [
    {
     "data": {
      "text/plain": [
       "0"
      ]
     },
     "execution_count": 9,
     "metadata": {},
     "output_type": "execute_result"
    }
   ],
   "source": [
    "3//4"
   ]
  },
  {
   "cell_type": "code",
   "execution_count": 10,
   "metadata": {},
   "outputs": [
    {
     "name": "stdout",
     "output_type": "stream",
     "text": [
      "MY_NAME: HIDAYAH\n"
     ]
    }
   ],
   "source": [
    "MY_NAME = 'HIDAYAH'\n",
    "print('MY_NAME:', MY_NAME)"
   ]
  },
  {
   "cell_type": "code",
   "execution_count": 11,
   "metadata": {},
   "outputs": [
    {
     "name": "stdout",
     "output_type": "stream",
     "text": [
      "MY_FAMILY_NAME: BASHIR DAYYIB\n"
     ]
    }
   ],
   "source": [
    "MY_FAMILY_NAME = 'BASHIR DAYYIB'\n",
    "print('MY_FAMILY_NAME:', MY_FAMILY_NAME)"
   ]
  },
  {
   "cell_type": "code",
   "execution_count": 12,
   "metadata": {},
   "outputs": [
    {
     "name": "stdout",
     "output_type": "stream",
     "text": [
      "MY COUNTRY: NIGERIA\n"
     ]
    }
   ],
   "source": [
    "MY_COUNTRY = 'NIGERIA'\n",
    "print('MY COUNTRY:', MY_COUNTRY)"
   ]
  },
  {
   "cell_type": "code",
   "execution_count": 13,
   "metadata": {},
   "outputs": [
    {
     "data": {
      "text/plain": [
       "'I AM ENJOYING 30 DAYS OF PYTHON'"
      ]
     },
     "execution_count": 13,
     "metadata": {},
     "output_type": "execute_result"
    }
   ],
   "source": [
    "'I AM ENJOYING 30 DAYS OF PYTHON'"
   ]
  },
  {
   "cell_type": "code",
   "execution_count": 14,
   "metadata": {},
   "outputs": [
    {
     "data": {
      "text/plain": [
       "int"
      ]
     },
     "execution_count": 14,
     "metadata": {},
     "output_type": "execute_result"
    }
   ],
   "source": [
    "type(10)  # Output: <class 'int'>\n"
   ]
  },
  {
   "cell_type": "code",
   "execution_count": 15,
   "metadata": {},
   "outputs": [
    {
     "data": {
      "text/plain": [
       "float"
      ]
     },
     "execution_count": 15,
     "metadata": {},
     "output_type": "execute_result"
    }
   ],
   "source": [
    "type(9.8)  # Output: <class 'float'>\n"
   ]
  },
  {
   "cell_type": "code",
   "execution_count": 16,
   "metadata": {},
   "outputs": [
    {
     "data": {
      "text/plain": [
       "complex"
      ]
     },
     "execution_count": 16,
     "metadata": {},
     "output_type": "execute_result"
    }
   ],
   "source": [
    "type(4 - 4j)  # Output: <class 'complex'>\n"
   ]
  },
  {
   "cell_type": "code",
   "execution_count": 17,
   "metadata": {},
   "outputs": [
    {
     "data": {
      "text/plain": [
       "list"
      ]
     },
     "execution_count": 17,
     "metadata": {},
     "output_type": "execute_result"
    }
   ],
   "source": [
    "type(['Asabeneh', 'Python', 'Finland'])  # Output: <class 'list'>\n"
   ]
  },
  {
   "cell_type": "code",
   "execution_count": 18,
   "metadata": {},
   "outputs": [
    {
     "data": {
      "text/plain": [
       "str"
      ]
     },
     "execution_count": 18,
     "metadata": {},
     "output_type": "execute_result"
    }
   ],
   "source": [
    "type('Hidayah')  # Output: <class 'str'>\n"
   ]
  },
  {
   "cell_type": "markdown",
   "metadata": {},
   "source": [
    "Python Data Types Examples"
   ]
  },
  {
   "cell_type": "code",
   "execution_count": 19,
   "metadata": {},
   "outputs": [
    {
     "name": "stdout",
     "output_type": "stream",
     "text": [
      "Age: 25 Type: <class 'int'>\n"
     ]
    }
   ],
   "source": [
    "# Integer\n",
    "age = 25\n",
    "print(\"Age:\", age, \"Type:\", type(age))"
   ]
  },
  {
   "cell_type": "code",
   "execution_count": 20,
   "metadata": {},
   "outputs": [
    {
     "name": "stdout",
     "output_type": "stream",
     "text": [
      "Height: 5.9 Type: <class 'float'>\n"
     ]
    }
   ],
   "source": [
    "# Float\n",
    "height = 5.9\n",
    "print(\"Height:\", height, \"Type:\", type(height))"
   ]
  },
  {
   "cell_type": "code",
   "execution_count": 21,
   "metadata": {},
   "outputs": [
    {
     "name": "stdout",
     "output_type": "stream",
     "text": [
      "Complex Number: (4-4j) Type: <class 'complex'>\n"
     ]
    }
   ],
   "source": [
    "# Complex\n",
    "complex_number = 4 - 4j\n",
    "print(\"Complex Number:\", complex_number, \"Type:\", type(complex_number))"
   ]
  },
  {
   "cell_type": "code",
   "execution_count": 22,
   "metadata": {},
   "outputs": [
    {
     "name": "stdout",
     "output_type": "stream",
     "text": [
      "Name: Hidayah Bashir Dayyib Type: <class 'str'>\n"
     ]
    }
   ],
   "source": [
    "# String\n",
    "name = \"Hidayah Bashir Dayyib\"\n",
    "print(\"Name:\", name, \"Type:\", type(name))"
   ]
  },
  {
   "cell_type": "code",
   "execution_count": 23,
   "metadata": {},
   "outputs": [
    {
     "name": "stdout",
     "output_type": "stream",
     "text": [
      "Is Married: True Type: <class 'bool'>\n"
     ]
    }
   ],
   "source": [
    "# Boolean\n",
    "is_married = True\n",
    "print(\"Is Married:\", is_married, \"Type:\", type(is_married))"
   ]
  },
  {
   "cell_type": "code",
   "execution_count": 24,
   "metadata": {},
   "outputs": [
    {
     "name": "stdout",
     "output_type": "stream",
     "text": [
      "Languages: ['Python', 'SQL', 'Power BI'] Type: <class 'list'>\n"
     ]
    }
   ],
   "source": [
    "# List\n",
    "languages = ['Python', 'SQL', 'Power BI']\n",
    "print(\"Languages:\", languages, \"Type:\", type(languages))\n"
   ]
  },
  {
   "cell_type": "code",
   "execution_count": 25,
   "metadata": {},
   "outputs": [
    {
     "name": "stdout",
     "output_type": "stream",
     "text": [
      "Languages: ['Python', 'SQL', 'Power BI'] Type: <class 'list'>\n"
     ]
    }
   ],
   "source": [
    "# List\n",
    "languages = ['Python', 'SQL', 'Power BI']\n",
    "print(\"Languages:\", languages, \"Type:\", type(languages))\n"
   ]
  },
  {
   "cell_type": "code",
   "execution_count": 26,
   "metadata": {},
   "outputs": [
    {
     "name": "stdout",
     "output_type": "stream",
     "text": [
      "Coordinates: (10, 20) Type: <class 'tuple'>\n"
     ]
    }
   ],
   "source": [
    "# Tuple\n",
    "coordinates = (10, 20)\n",
    "print(\"Coordinates:\", coordinates, \"Type:\", type(coordinates))"
   ]
  },
  {
   "cell_type": "code",
   "execution_count": 27,
   "metadata": {},
   "outputs": [
    {
     "name": "stdout",
     "output_type": "stream",
     "text": [
      "Unique Numbers: {1, 2, 3, 4, 5} Type: <class 'set'>\n"
     ]
    }
   ],
   "source": [
    "# Set\n",
    "unique_numbers = {1, 2, 3, 4, 5}\n",
    "print(\"Unique Numbers:\", unique_numbers, \"Type:\", type(unique_numbers))\n"
   ]
  },
  {
   "cell_type": "code",
   "execution_count": 28,
   "metadata": {},
   "outputs": [
    {
     "name": "stdout",
     "output_type": "stream",
     "text": [
      "Person: {'first_name': 'Hidayah', 'last_name': 'Dayyib', 'age': 25, 'country': 'Nigeria'} Type: <class 'dict'>\n"
     ]
    }
   ],
   "source": [
    "# Dictionary\n",
    "person = {\n",
    "    'first_name': 'Hidayah',\n",
    "    'last_name': 'Dayyib',\n",
    "    'age': 25,\n",
    "    'country': 'Nigeria'\n",
    "}\n",
    "print(\"Person:\", person, \"Type:\", type(person))"
   ]
  },
  {
   "cell_type": "code",
   "execution_count": 29,
   "metadata": {},
   "outputs": [
    {
     "name": "stdout",
     "output_type": "stream",
     "text": [
      "Euclidean Distance between (2, 3) and (10, 8): 9.433981132056603\n"
     ]
    }
   ],
   "source": [
    "# Day 1: 30 Days of Python programming - Euclidean Distance\n",
    "import math\n",
    "\n",
    "# Points\n",
    "x1, y1 = 2, 3\n",
    "x2, y2 = 10, 8\n",
    "\n",
    "# Calculate Euclidean distance\n",
    "euclidean_distance = math.sqrt((x2 - x1) ** 2 + (y2 - y1) ** 2)\n",
    "print(\"Euclidean Distance between (2, 3) and (10, 8):\", euclidean_distance)\n"
   ]
  },
  {
   "cell_type": "code",
   "execution_count": null,
   "metadata": {},
   "outputs": [],
   "source": []
  },
  {
   "cell_type": "code",
   "execution_count": null,
   "metadata": {},
   "outputs": [],
   "source": []
  },
  {
   "cell_type": "code",
   "execution_count": null,
   "metadata": {},
   "outputs": [],
   "source": []
  },
  {
   "cell_type": "code",
   "execution_count": null,
   "metadata": {},
   "outputs": [],
   "source": []
  }
 ],
 "metadata": {
  "kernelspec": {
   "display_name": "Python 3",
   "language": "python",
   "name": "python3"
  },
  "language_info": {
   "codemirror_mode": {
    "name": "ipython",
    "version": 3
   },
   "file_extension": ".py",
   "mimetype": "text/x-python",
   "name": "python",
   "nbconvert_exporter": "python",
   "pygments_lexer": "ipython3",
   "version": "3.11.9"
  }
 },
 "nbformat": 4,
 "nbformat_minor": 2
}
