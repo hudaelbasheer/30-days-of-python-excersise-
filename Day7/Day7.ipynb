{
 "cells": [
  {
   "cell_type": "code",
   "execution_count": 1,
   "metadata": {},
   "outputs": [
    {
     "name": "stdout",
     "output_type": "stream",
     "text": [
      "You are old enough to learn to drive.\n"
     ]
    }
   ],
   "source": [
    "# Exercise 1 with error handling\n",
    "try:\n",
    "    age = int(input(\"Enter your age: \"))\n",
    "    if age >= 18:\n",
    "        print(\"You are old enough to learn to drive.\")\n",
    "    else:\n",
    "        years_to_wait = 18 - age\n",
    "        print(f\"You need {years_to_wait} more years to learn to drive.\")\n",
    "except ValueError:\n",
    "    print(\"Please enter a valid number for your age.\")\n",
    "\n"
   ]
  },
  {
   "cell_type": "code",
   "execution_count": 2,
   "metadata": {},
   "outputs": [
    {
     "name": "stdout",
     "output_type": "stream",
     "text": [
      "You are 54 years older than me.\n"
     ]
    }
   ],
   "source": [
    "# Exercise 2\n",
    "my_age = 25 \n",
    "your_age = int(input(\"Enter your age: \"))\n",
    "\n",
    "if your_age > my_age:\n",
    "    difference = your_age - my_age\n",
    "    print(f\"You are {difference} year{'s' if difference > 1 else ''} older than me.\")\n",
    "elif your_age < my_age:\n",
    "    difference = my_age - your_age\n",
    "    print(f\"I am {difference} year{'s' if difference > 1 else ''} older than you.\")\n",
    "else:\n",
    "    print(\"We are the same age!\")\n"
   ]
  },
  {
   "cell_type": "code",
   "execution_count": 3,
   "metadata": {},
   "outputs": [
    {
     "name": "stdout",
     "output_type": "stream",
     "text": [
      "73 is greater than 2\n"
     ]
    }
   ],
   "source": [
    "# Exercise 3\n",
    "a = int(input(\"Enter number one: \"))\n",
    "b = int(input(\"Enter number two: \"))\n",
    "\n",
    "if a > b:\n",
    "    print(f\"{a} is greater than {b}\")\n",
    "elif a < b:\n",
    "    print(f\"{a} is smaller than {b}\")\n",
    "else:\n",
    "    print(f\"{a} is equal to {b}\")\n"
   ]
  },
  {
   "cell_type": "code",
   "execution_count": 4,
   "metadata": {},
   "outputs": [
    {
     "name": "stdout",
     "output_type": "stream",
     "text": [
      "Your grade is: C\n"
     ]
    }
   ],
   "source": [
    "# Exercise 1\n",
    "score = int(input(\"Enter your score: \"))\n",
    "\n",
    "if 80 <= score <= 100:\n",
    "    grade = 'A'\n",
    "elif 70 <= score <= 89:\n",
    "    grade = 'B'\n",
    "elif 60 <= score <= 69:\n",
    "    grade = 'C'\n",
    "elif 50 <= score <= 59:\n",
    "    grade = 'D'\n",
    "elif 0 <= score <= 49:\n",
    "    grade = 'F'\n",
    "else:\n",
    "    grade = 'Invalid score'\n",
    "print(f\"Your grade is: {grade}\")\n"
   ]
  },
  {
   "cell_type": "code",
   "execution_count": 6,
   "metadata": {},
   "outputs": [
    {
     "name": "stdout",
     "output_type": "stream",
     "text": [
      "The season is: Spring\n"
     ]
    }
   ],
   "source": [
    "# Exercise 2\n",
    "month = input(\"Enter the month: \").capitalize()\n",
    "\n",
    "if month in ['September', 'October', 'November']:\n",
    "    season = 'Autumn'\n",
    "elif month in ['December', 'January', 'February']:\n",
    "    season = 'Winter'\n",
    "elif month in ['March', 'April', 'May']:\n",
    "    season = 'Spring'\n",
    "elif month in ['June', 'July', 'August']:\n",
    "    season = 'Summer'\n",
    "else:\n",
    "    season = 'Invalid month'\n",
    "print(f\"The season is: {season}\")\n"
   ]
  },
  {
   "cell_type": "code",
   "execution_count": 7,
   "metadata": {},
   "outputs": [
    {
     "name": "stdout",
     "output_type": "stream",
     "text": [
      "The updated fruit list is: ['banana', 'orange', 'mango', 'lemon', 'apple']\n"
     ]
    }
   ],
   "source": [
    "# Exercise 3\n",
    "fruits = ['banana', 'orange', 'mango', 'lemon']\n",
    "fruit = input(\"Enter a fruit: \").lower()\n",
    "\n",
    "if fruit in fruits:\n",
    "    print(\"That fruit already exists in the list.\")\n",
    "else:\n",
    "    fruits.append(fruit)\n",
    "    print(f\"The updated fruit list is: {fruits}\")\n"
   ]
  },
  {
   "cell_type": "code",
   "execution_count": 8,
   "metadata": {},
   "outputs": [
    {
     "name": "stdout",
     "output_type": "stream",
     "text": [
      "The middle skill is: Node\n"
     ]
    }
   ],
   "source": [
    "# Exercise 1\n",
    "person = {\n",
    "    'first_name': 'Asabeneh',\n",
    "    'last_name': 'Yetayeh',\n",
    "    'age': 250,\n",
    "    'country': 'Finland',\n",
    "    'is_married': True,\n",
    "    'skills': ['JavaScript', 'React', 'Node', 'MongoDB', 'Python'],\n",
    "    'address': {\n",
    "        'street': 'Space street',\n",
    "        'zipcode': '02210'\n",
    "    }\n",
    "}\n",
    "\n",
    "if 'skills' in person:\n",
    "    skills = person['skills']\n",
    "    middle_skill = skills[len(skills) // 2]\n",
    "    print(f\"The middle skill is: {middle_skill}\")\n"
   ]
  },
  {
   "cell_type": "code",
   "execution_count": 9,
   "metadata": {},
   "outputs": [
    {
     "name": "stdout",
     "output_type": "stream",
     "text": [
      "The person has Python skill.\n"
     ]
    }
   ],
   "source": [
    "if 'skills' in person and 'Python' in person['skills']:\n",
    "    print(\"The person has Python skill.\")\n",
    "else:\n",
    "    print(\"The person does not have Python skill.\")\n"
   ]
  },
  {
   "cell_type": "code",
   "execution_count": 10,
   "metadata": {},
   "outputs": [
    {
     "name": "stdout",
     "output_type": "stream",
     "text": [
      "He is a back-end developer.\n"
     ]
    }
   ],
   "source": [
    "skills = person['skills']\n",
    "\n",
    "if 'JavaScript' in skills and 'React' in skills and len(skills) == 2:\n",
    "    print(\"He is a front-end developer.\")\n",
    "elif {'Node', 'Python', 'MongoDB'}.issubset(skills):\n",
    "    print(\"He is a back-end developer.\")\n",
    "elif {'React', 'Node', 'MongoDB'}.issubset(skills):\n",
    "    print(\"He is a full-stack developer.\")\n",
    "else:\n",
    "    print(\"Unknown title.\")\n"
   ]
  },
  {
   "cell_type": "code",
   "execution_count": 11,
   "metadata": {},
   "outputs": [
    {
     "name": "stdout",
     "output_type": "stream",
     "text": [
      "Asabeneh Yetayeh lives in Finland. He is married.\n"
     ]
    }
   ],
   "source": [
    "if person['is_married'] and person['country'] == 'Finland':\n",
    "    print(f\"{person['first_name']} {person['last_name']} lives in Finland. He is married.\")\n"
   ]
  },
  {
   "cell_type": "code",
   "execution_count": null,
   "metadata": {},
   "outputs": [],
   "source": []
  }
 ],
 "metadata": {
  "kernelspec": {
   "display_name": "Python 3",
   "language": "python",
   "name": "python3"
  },
  "language_info": {
   "codemirror_mode": {
    "name": "ipython",
    "version": 3
   },
   "file_extension": ".py",
   "mimetype": "text/x-python",
   "name": "python",
   "nbconvert_exporter": "python",
   "pygments_lexer": "ipython3",
   "version": "3.11.9"
  }
 },
 "nbformat": 4,
 "nbformat_minor": 2
}
